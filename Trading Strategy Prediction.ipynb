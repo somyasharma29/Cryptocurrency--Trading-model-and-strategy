{
 "cells": [
  {
   "cell_type": "code",
   "execution_count": 11,
   "id": "a4ad3ccf",
   "metadata": {},
   "outputs": [
    {
     "name": "stdout",
     "output_type": "stream",
     "text": [
      "Requirement already satisfied: xgboost==0.90 in c:\\programdata\\anaconda3\\lib\\site-packages (0.90)\n",
      "Requirement already satisfied: scipy in c:\\programdata\\anaconda3\\lib\\site-packages (from xgboost==0.90) (1.6.2)\n",
      "Requirement already satisfied: numpy in c:\\programdata\\anaconda3\\lib\\site-packages (from xgboost==0.90) (1.20.1)\n",
      "Note: you may need to restart the kernel to use updated packages.\n"
     ]
    }
   ],
   "source": [
    "pip install xgboost==0.90"
   ]
  },
  {
   "cell_type": "code",
   "execution_count": 12,
   "id": "655dc33b",
   "metadata": {},
   "outputs": [],
   "source": [
    "from numpy import loadtxt\n",
    "import pandas as pd\n",
    "import matplotlib as plt\n",
    "import requests,json\n",
    "from xgboost import XGBClassifier\n",
    "from sklearn.model_selection import train_test_split\n",
    "from sklearn.metrics import accuracy_score"
   ]
  },
  {
   "cell_type": "code",
   "execution_count": 13,
   "id": "1d8b42f6",
   "metadata": {},
   "outputs": [],
   "source": [
    "data_read = pd.read_csv('XBTUSD-1h-data.csv')\n",
    "dataset = pd.DataFrame(data_read)"
   ]
  },
  {
   "cell_type": "code",
   "execution_count": 14,
   "id": "4befaf04",
   "metadata": {},
   "outputs": [
    {
     "data": {
      "text/html": [
       "<div>\n",
       "<style scoped>\n",
       "    .dataframe tbody tr th:only-of-type {\n",
       "        vertical-align: middle;\n",
       "    }\n",
       "\n",
       "    .dataframe tbody tr th {\n",
       "        vertical-align: top;\n",
       "    }\n",
       "\n",
       "    .dataframe thead th {\n",
       "        text-align: right;\n",
       "    }\n",
       "</style>\n",
       "<table border=\"1\" class=\"dataframe\">\n",
       "  <thead>\n",
       "    <tr style=\"text-align: right;\">\n",
       "      <th></th>\n",
       "      <th>timestamp</th>\n",
       "      <th>symbol</th>\n",
       "      <th>open</th>\n",
       "      <th>high</th>\n",
       "      <th>low</th>\n",
       "      <th>close</th>\n",
       "      <th>trades</th>\n",
       "      <th>volume</th>\n",
       "      <th>vwap</th>\n",
       "      <th>lastSize</th>\n",
       "      <th>turnover</th>\n",
       "      <th>homeNotional</th>\n",
       "      <th>foreignNotional</th>\n",
       "    </tr>\n",
       "  </thead>\n",
       "  <tbody>\n",
       "    <tr>\n",
       "      <th>57909</th>\n",
       "      <td>2022-05-04 10:00:00+00:00</td>\n",
       "      <td>XBTUSD</td>\n",
       "      <td>38961.0</td>\n",
       "      <td>39095.5</td>\n",
       "      <td>38801.0</td>\n",
       "      <td>38857.0</td>\n",
       "      <td>4624</td>\n",
       "      <td>28892600</td>\n",
       "      <td>38920.8039</td>\n",
       "      <td>100.0</td>\n",
       "      <td>74234393625</td>\n",
       "      <td>742.343936</td>\n",
       "      <td>28892600.0</td>\n",
       "    </tr>\n",
       "    <tr>\n",
       "      <th>57910</th>\n",
       "      <td>2022-05-04 11:00:00+00:00</td>\n",
       "      <td>XBTUSD</td>\n",
       "      <td>38857.0</td>\n",
       "      <td>39058.5</td>\n",
       "      <td>38839.5</td>\n",
       "      <td>38972.5</td>\n",
       "      <td>3611</td>\n",
       "      <td>24856700</td>\n",
       "      <td>38950.9724</td>\n",
       "      <td>100.0</td>\n",
       "      <td>63815443481</td>\n",
       "      <td>638.154435</td>\n",
       "      <td>24856700.0</td>\n",
       "    </tr>\n",
       "    <tr>\n",
       "      <th>57911</th>\n",
       "      <td>2022-05-04 12:00:00+00:00</td>\n",
       "      <td>XBTUSD</td>\n",
       "      <td>38972.5</td>\n",
       "      <td>39037.0</td>\n",
       "      <td>38858.0</td>\n",
       "      <td>39001.0</td>\n",
       "      <td>2671</td>\n",
       "      <td>13788500</td>\n",
       "      <td>38977.6931</td>\n",
       "      <td>9800.0</td>\n",
       "      <td>35375475772</td>\n",
       "      <td>353.754758</td>\n",
       "      <td>13788500.0</td>\n",
       "    </tr>\n",
       "    <tr>\n",
       "      <th>57912</th>\n",
       "      <td>2022-05-04 13:00:00+00:00</td>\n",
       "      <td>XBTUSD</td>\n",
       "      <td>39001.0</td>\n",
       "      <td>39188.0</td>\n",
       "      <td>38867.0</td>\n",
       "      <td>38958.5</td>\n",
       "      <td>5227</td>\n",
       "      <td>29250900</td>\n",
       "      <td>38992.5875</td>\n",
       "      <td>25000.0</td>\n",
       "      <td>75016746125</td>\n",
       "      <td>750.167461</td>\n",
       "      <td>29250900.0</td>\n",
       "    </tr>\n",
       "    <tr>\n",
       "      <th>57913</th>\n",
       "      <td>2022-05-04 14:00:00+00:00</td>\n",
       "      <td>XBTUSD</td>\n",
       "      <td>38958.5</td>\n",
       "      <td>39089.5</td>\n",
       "      <td>38707.0</td>\n",
       "      <td>38714.0</td>\n",
       "      <td>4375</td>\n",
       "      <td>22050000</td>\n",
       "      <td>38921.1069</td>\n",
       "      <td>10900.0</td>\n",
       "      <td>56653196528</td>\n",
       "      <td>566.531965</td>\n",
       "      <td>22050000.0</td>\n",
       "    </tr>\n",
       "  </tbody>\n",
       "</table>\n",
       "</div>"
      ],
      "text/plain": [
       "                       timestamp  symbol     open     high      low    close  \\\n",
       "57909  2022-05-04 10:00:00+00:00  XBTUSD  38961.0  39095.5  38801.0  38857.0   \n",
       "57910  2022-05-04 11:00:00+00:00  XBTUSD  38857.0  39058.5  38839.5  38972.5   \n",
       "57911  2022-05-04 12:00:00+00:00  XBTUSD  38972.5  39037.0  38858.0  39001.0   \n",
       "57912  2022-05-04 13:00:00+00:00  XBTUSD  39001.0  39188.0  38867.0  38958.5   \n",
       "57913  2022-05-04 14:00:00+00:00  XBTUSD  38958.5  39089.5  38707.0  38714.0   \n",
       "\n",
       "       trades    volume        vwap  lastSize     turnover  homeNotional  \\\n",
       "57909    4624  28892600  38920.8039     100.0  74234393625    742.343936   \n",
       "57910    3611  24856700  38950.9724     100.0  63815443481    638.154435   \n",
       "57911    2671  13788500  38977.6931    9800.0  35375475772    353.754758   \n",
       "57912    5227  29250900  38992.5875   25000.0  75016746125    750.167461   \n",
       "57913    4375  22050000  38921.1069   10900.0  56653196528    566.531965   \n",
       "\n",
       "       foreignNotional  \n",
       "57909       28892600.0  \n",
       "57910       24856700.0  \n",
       "57911       13788500.0  \n",
       "57912       29250900.0  \n",
       "57913       22050000.0  "
      ]
     },
     "execution_count": 14,
     "metadata": {},
     "output_type": "execute_result"
    }
   ],
   "source": [
    "data.tail()"
   ]
  },
  {
   "cell_type": "code",
   "execution_count": 15,
   "id": "2c4bce2b",
   "metadata": {},
   "outputs": [],
   "source": [
    "Y = []\n",
    "for i in range(0, len(dataset['timestamp'])-1): \n",
    "    if dataset['open'][i+1]>dataset['close'][i]:\n",
    "        Y.append(1)\n",
    "    else: Y.append(0)\n",
    "Y.append(1)"
   ]
  },
  {
   "cell_type": "code",
   "execution_count": 16,
   "id": "4717a2ed",
   "metadata": {},
   "outputs": [],
   "source": [
    "# split data into X and y\n",
    "train_len = int(0.8*len(dataset['timestamp']))\n",
    "X_train = dataset[:train_len]\n",
    "Y_train = Y[:train_len]\n",
    "X_test = dataset[train_len:]\n",
    "Y_test = Y[train_len:]"
   ]
  },
  {
   "cell_type": "code",
   "execution_count": 17,
   "id": "53a8b48a",
   "metadata": {},
   "outputs": [],
   "source": [
    "X1_train = X_train.drop(labels=['timestamp', 'symbol', 'trades', 'volume', 'vwap', 'lastSize', 'turnover', 'homeNotional', 'foreignNotional'], axis=1)\n",
    "X1_test = X_test.drop(labels=['timestamp', 'symbol', 'trades', 'volume', 'vwap', 'lastSize', 'turnover', 'homeNotional', 'foreignNotional'], axis=1)"
   ]
  },
  {
   "cell_type": "code",
   "execution_count": 18,
   "id": "59b18894",
   "metadata": {},
   "outputs": [],
   "source": [
    "for label in ['open', 'close', 'high', 'low']:\n",
    "    X1_train[label] = pd.to_numeric(X1_train[label])\n",
    "for label in ['open', 'close', 'high', 'low']:\n",
    "    X1_test[label] = pd.to_numeric(X1_test[label])"
   ]
  },
  {
   "cell_type": "code",
   "execution_count": 19,
   "id": "4bcaa685",
   "metadata": {},
   "outputs": [],
   "source": [
    "normalized_X1_train=(X1_train-X1_train.min())/X1_train.std()\n",
    "normalized_X1_test=(X1_test-X1_test.min())/X1_test.std()"
   ]
  },
  {
   "cell_type": "code",
   "execution_count": 20,
   "id": "c830fec2",
   "metadata": {},
   "outputs": [
    {
     "name": "stdout",
     "output_type": "stream",
     "text": [
      "Accuracy: 99.99%\n"
     ]
    }
   ],
   "source": [
    "# split data into train and test sets\n",
    "#seed = 7\n",
    "#test_size = 0.33\n",
    "#X_train, X_test = train_test_split(normalized_X1, test_size=test_size, random_state=seed)\n",
    "#y_train, y_test = train_test_split(normalized_Y1, test_size=test_size, random_state=seed)\n",
    "# fit model no training data\n",
    "model = XGBClassifier()\n",
    "model.fit(X1_train, Y_train)\n",
    "# make predictions for test data\n",
    "y_pred = model.predict(X1_test)\n",
    "predictions = [round(value) for value in y_pred]\n",
    "# evaluate predictions\n",
    "accuracy = accuracy_score(Y_test, predictions)\n",
    "print(\"Accuracy: %.2f%%\" % (accuracy * 100.0))"
   ]
  }
 ],
 "metadata": {
  "kernelspec": {
   "display_name": "Python 3",
   "language": "python",
   "name": "python3"
  },
  "language_info": {
   "codemirror_mode": {
    "name": "ipython",
    "version": 3
   },
   "file_extension": ".py",
   "mimetype": "text/x-python",
   "name": "python",
   "nbconvert_exporter": "python",
   "pygments_lexer": "ipython3",
   "version": "3.8.8"
  }
 },
 "nbformat": 4,
 "nbformat_minor": 5
}
